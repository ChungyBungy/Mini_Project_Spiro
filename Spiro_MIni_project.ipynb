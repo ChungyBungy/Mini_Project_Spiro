{
  "nbformat": 4,
  "nbformat_minor": 0,
  "metadata": {
    "colab": {
      "provenance": []
    },
    "kernelspec": {
      "name": "python3",
      "display_name": "Python 3"
    },
    "language_info": {
      "name": "python"
    }
  },
  "cells": [
    {
      "cell_type": "markdown",
      "source": [
        "**Project** : Mini Spiro Mask"
      ],
      "metadata": {
        "id": "lE7uR8do-NIB"
      }
    },
    {
      "cell_type": "markdown",
      "source": [
        "step 1: Import dependencies"
      ],
      "metadata": {
        "id": "F_PVNAJf-cwf"
      }
    },
    {
      "cell_type": "code",
      "execution_count": 30,
      "metadata": {
        "id": "PjcxcIupk2jw"
      },
      "outputs": [],
      "source": [
        "import librosa\n",
        "import numpy as np\n",
        "import matplotlib.pyplot as plt\n",
        "from scipy.signal import butter\n",
        "from scipy.signal import lfilter\n",
        "import scipy.io"
      ]
    },
    {
      "cell_type": "markdown",
      "source": [
        "Step 2 :load the audio file into the 'librosa' module for calculating the sampling_rate of the audio.\n"
      ],
      "metadata": {
        "id": "-NYgdTb8_XqP"
      }
    },
    {
      "cell_type": "code",
      "source": [
        "filename = '/content/Breath Audio 5.mp3'\n",
        "audio, sampling_rate = librosa.load(filename, sr=None)\n"
      ],
      "metadata": {
        "id": "w1NHAVSB-orw"
      },
      "execution_count": 32,
      "outputs": []
    },
    {
      "cell_type": "code",
      "source": [
        "sampling_rate"
      ],
      "metadata": {
        "colab": {
          "base_uri": "https://localhost:8080/"
        },
        "id": "-vib8W1i-9bE",
        "outputId": "4ef0ec97-9374-47b3-d2b3-18d975a38d52"
      },
      "execution_count": 33,
      "outputs": [
        {
          "output_type": "execute_result",
          "data": {
            "text/plain": [
              "44100"
            ]
          },
          "metadata": {},
          "execution_count": 33
        }
      ]
    },
    {
      "cell_type": "markdown",
      "source": [
        "**Conclusion step-2:** we conclude that the sampling rate of given audio is **44.1K Hertz**\n"
      ],
      "metadata": {
        "id": "EfPLKixq_D5l"
      }
    },
    {
      "cell_type": "markdown",
      "source": [
        "**Step 3 : Calculate FFT (Fast Fourier Transform)**\n",
        "\n",
        "**What is FFT?**\n",
        "- FFT stands for Fast Fourier Transform , used to convert the audio signal from time domain to frequency domain. enabling analysis and visualization of their frequency components, aiding tasks such as identifying pitch, harmonics, and noises.\n",
        "\n",
        "**Why  FFT?**\n",
        "- As we FFT is used to transform signals from the **time domain to frequency domain**.\n",
        "- Using FFT we can determined **different frequecies** present in the signal.\n",
        "- Also, FFT provide convenient way to visualize the frequency content of an audio. It can create **Frequency Spectrum** that shows the distribution of frequencies and their magnitude in the audio.\n",
        "\n",
        "**How FFT is useful for our project?**\n",
        "- We used the FFt to analyze the frequency content of the recorded breath audio,This can help in identifying any higher frequencies present in the audio, which might correspond to noise or unwanted components.\n",
        "- Which might be helpful to answer our 2nd question which is \"**How we Filtering out the Higher frequency using any tool?\"**"
      ],
      "metadata": {
        "id": "e9nTUjjHAzgh"
      }
    },
    {
      "cell_type": "code",
      "source": [
        "# Calculate FFT\n",
        "fft_result = np.fft.fft(audio)\n",
        "frequencies = np.fft.fftfreq(len(audio),1 / sampling_rate)"
      ],
      "metadata": {
        "id": "dvlVtyuUAWiN"
      },
      "execution_count": 34,
      "outputs": []
    },
    {
      "cell_type": "markdown",
      "source": [
        "**Step 4 : Ploting FFT**\n",
        "\n",
        "- **Visualization** provides insights into which frequencies are present in the signal and their relative magnitude\n",
        "- Using FFT plot, we can identify dominant Frequency components in the audio signal, helps in determining the pitch of a sound and identifying noise or interference."
      ],
      "metadata": {
        "id": "sAvmSf6eFPsV"
      }
    },
    {
      "cell_type": "code",
      "source": [
        "# plot FFT\n",
        "plt.figure()\n",
        "plt.plot(frequencies[:len(frequencies) // 2], np.abs(fft_result[:len(frequencies) // 2])) # len(frequencies) // 2 because Fourier series is symmertical\n",
        "plt.xlabel(\"Frequency (Hz)\")\n",
        "plt.ylabel(\"Magnitude\")\n",
        "plt.title(\"Frequency Content\")\n",
        "plt.title(\"Frequency Content\")\n",
        "plt.grid(True)\n",
        "plt.show()"
      ],
      "metadata": {
        "colab": {
          "base_uri": "https://localhost:8080/",
          "height": 472
        },
        "id": "GIX1Ke-1FN8i",
        "outputId": "83668417-9d50-4e04-8756-74e8d5f539ee"
      },
      "execution_count": 35,
      "outputs": [
        {
          "output_type": "display_data",
          "data": {
            "text/plain": [
              "<Figure size 640x480 with 1 Axes>"
            ],
            "image/png": "[encoded data removed]"
          },
          "metadata": {}
        }
      ]
    },
    {
      "cell_type": "markdown",
      "source": [
        "3rd Question i.e. **\"In what frequency range is the breathing information present?\"**\n",
        "\n",
        "Answer to this question is:  **0 - 1000 Hz** Frequencies as\n",
        "\n",
        "   - **0-200 Hz**: This range is fundamental frequency of breathing, which is the rate at which our **lungs inflate and deflate.**\n",
        "\n",
        "   - **200-500 Hz**: This range may contain information about the **upper airways**, such as the trachea and bronchi.\n",
        "\n",
        "   - **500-1000 Hz**: This range may contain information about the **flow of air through the smaller airways.**\n",
        "  \n",
        "Any **Frequencies > 1000 Hz** are generally considerd to be **higher frequencies** in breath sounds."
      ],
      "metadata": {
        "id": "iEGonwPHKgf3"
      }
    },
    {
      "cell_type": "code",
      "source": [
        "# Filter Higher Frequencies\n",
        "Threshold_frequency = 1000\n",
        "order = 5\n",
        "\n",
        "# Design high pass filter\n",
        "def butter_highpass(Threshold_frequency, fs, order = 5):\n",
        "\n",
        "  nyq = 0.5 * fs  # Calculate Nyquist Frequency, which is half of sampling frequency\n",
        "  normal_threshold = Threshold_frequency / nyq  # This normalize the cutoff or threshold frequency\n",
        "  # by dividing it by Nyquist frequency, as it neccessary for designing digital frequecny\n",
        "\n",
        "  b, a = butter(order, normal_threshold, btype = 'high', analog = False)\n",
        "  return b, a\n",
        "\n",
        "\n",
        "# Applying the high pass filter\n",
        "b,a = butter_highpass(Threshold_frequency, sampling_rate, order)\n",
        "filtered_audio = lfilter(b,a,audio)\n"
      ],
      "metadata": {
        "id": "Cpv8wJ04GTkZ"
      },
      "execution_count": 36,
      "outputs": []
    },
    {
      "cell_type": "markdown",
      "source": [
        "Saved the filtered audio"
      ],
      "metadata": {
        "id": "KoTyDkw6UuSx"
      }
    },
    {
      "cell_type": "code",
      "source": [
        "scipy.io.wavfile.write('filtered_breath_audio_5.wav',sampling_rate, filtered_audio)"
      ],
      "metadata": {
        "id": "wUS7d7ViRhuq"
      },
      "execution_count": 40,
      "outputs": []
    },
    {
      "cell_type": "code",
      "source": [
        "plt.figure()\n",
        "plt.plot(filtered_audio)\n",
        "plt.xlabel('Time(s)')\n",
        "plt.ylabel('Amplitude')\n",
        "plt.title('Filtered Audio')\n",
        "plt.show()"
      ],
      "metadata": {
        "colab": {
          "base_uri": "https://localhost:8080/",
          "height": 472
        },
        "id": "qmfMpm7ISNkm",
        "outputId": "1560aad9-75d3-4fc0-f131-c7135f489b9a"
      },
      "execution_count": 38,
      "outputs": [
        {
          "output_type": "display_data",
          "data": {
            "text/plain": [
              "<Figure size 640x480 with 1 Axes>"
            ],
            "image/png": "[encoded data removed]"
          },
          "metadata": {}
        }
      ]
    },
    {
      "cell_type": "code",
      "source": [
        "!pip show librosa\n"
      ],
      "metadata": {
        "colab": {
          "base_uri": "https://localhost:8080/"
        },
        "id": "ZfB7xYahS5Vc",
        "outputId": "b3cca36f-3e29-44f8-86f5-a59faad10757"
      },
      "execution_count": 39,
      "outputs": [
        {
          "output_type": "stream",
          "name": "stdout",
          "text": [
            "Name: librosa\n",
            "Version: 0.10.1\n",
            "Summary: Python module for audio and music processing\n",
            "Home-page: https://librosa.org\n",
            "Author: Brian McFee, librosa development team\n",
            "Author-email: brian.mcfee@nyu.edu\n",
            "License: ISC\n",
            "Location: /usr/local/lib/python3.10/dist-packages\n",
            "Requires: audioread, decorator, joblib, lazy-loader, msgpack, numba, numpy, pooch, scikit-learn, scipy, soundfile, soxr, typing-extensions\n",
            "Required-by: \n"
          ]
        }
      ]
    },
    {
      "cell_type": "code",
      "source": [
        "!pip install librosa --upgrade"
      ],
      "metadata": {
        "colab": {
          "base_uri": "https://localhost:8080/"
        },
        "id": "H9ZByRO6T8Su",
        "outputId": "5d2b560c-1814-4f97-efba-ca3bf8a7e116"
      },
      "execution_count": 29,
      "outputs": [
        {
          "output_type": "stream",
          "name": "stdout",
          "text": [
            "Requirement already satisfied: librosa in /usr/local/lib/python3.10/dist-packages (0.10.1)\n",
            "Requirement already satisfied: audioread>=2.1.9 in /usr/local/lib/python3.10/dist-packages (from librosa) (3.0.1)\n",
            "Requirement already satisfied: numpy!=1.22.0,!=1.22.1,!=1.22.2,>=1.20.3 in /usr/local/lib/python3.10/dist-packages (from librosa) (1.25.2)\n",
            "Requirement already satisfied: scipy>=1.2.0 in /usr/local/lib/python3.10/dist-packages (from librosa) (1.11.4)\n",
            "Requirement already satisfied: scikit-learn>=0.20.0 in /usr/local/lib/python3.10/dist-packages (from librosa) (1.2.2)\n",
            "Requirement already satisfied: joblib>=0.14 in /usr/local/lib/python3.10/dist-packages (from librosa) (1.3.2)\n",
            "Requirement already satisfied: decorator>=4.3.0 in /usr/local/lib/python3.10/dist-packages (from librosa) (4.4.2)\n",
            "Requirement already satisfied: numba>=0.51.0 in /usr/local/lib/python3.10/dist-packages (from librosa) (0.58.1)\n",
            "Requirement already satisfied: soundfile>=0.12.1 in /usr/local/lib/python3.10/dist-packages (from librosa) (0.12.1)\n",
            "Requirement already satisfied: pooch>=1.0 in /usr/local/lib/python3.10/dist-packages (from librosa) (1.8.0)\n",
            "Requirement already satisfied: soxr>=0.3.2 in /usr/local/lib/python3.10/dist-packages (from librosa) (0.3.7)\n",
            "Requirement already satisfied: typing-extensions>=4.1.1 in /usr/local/lib/python3.10/dist-packages (from librosa) (4.9.0)\n",
            "Requirement already satisfied: lazy-loader>=0.1 in /usr/local/lib/python3.10/dist-packages (from librosa) (0.3)\n",
            "Requirement already satisfied: msgpack>=1.0 in /usr/local/lib/python3.10/dist-packages (from librosa) (1.0.7)\n",
            "Requirement already satisfied: llvmlite<0.42,>=0.41.0dev0 in /usr/local/lib/python3.10/dist-packages (from numba>=0.51.0->librosa) (0.41.1)\n",
            "Requirement already satisfied: platformdirs>=2.5.0 in /usr/local/lib/python3.10/dist-packages (from pooch>=1.0->librosa) (4.2.0)\n",
            "Requirement already satisfied: packaging>=20.0 in /usr/local/lib/python3.10/dist-packages (from pooch>=1.0->librosa) (23.2)\n",
            "Requirement already satisfied: requests>=2.19.0 in /usr/local/lib/python3.10/dist-packages (from pooch>=1.0->librosa) (2.31.0)\n",
            "Requirement already satisfied: threadpoolctl>=2.0.0 in /usr/local/lib/python3.10/dist-packages (from scikit-learn>=0.20.0->librosa) (3.3.0)\n",
            "Requirement already satisfied: cffi>=1.0 in /usr/local/lib/python3.10/dist-packages (from soundfile>=0.12.1->librosa) (1.16.0)\n",
            "Requirement already satisfied: pycparser in /usr/local/lib/python3.10/dist-packages (from cffi>=1.0->soundfile>=0.12.1->librosa) (2.21)\n",
            "Requirement already satisfied: charset-normalizer<4,>=2 in /usr/local/lib/python3.10/dist-packages (from requests>=2.19.0->pooch>=1.0->librosa) (3.3.2)\n",
            "Requirement already satisfied: idna<4,>=2.5 in /usr/local/lib/python3.10/dist-packages (from requests>=2.19.0->pooch>=1.0->librosa) (3.6)\n",
            "Requirement already satisfied: urllib3<3,>=1.21.1 in /usr/local/lib/python3.10/dist-packages (from requests>=2.19.0->pooch>=1.0->librosa) (2.0.7)\n",
            "Requirement already satisfied: certifi>=2017.4.17 in /usr/local/lib/python3.10/dist-packages (from requests>=2.19.0->pooch>=1.0->librosa) (2024.2.2)\n"
          ]
        }
      ]
    },
    {
      "cell_type": "code",
      "source": [],
      "metadata": {
        "id": "Rz5r-zztUgZY"
      },
      "execution_count": null,
      "outputs": []
    }
  ]
}